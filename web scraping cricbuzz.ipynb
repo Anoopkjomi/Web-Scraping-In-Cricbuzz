{
 "cells": [
  {
   "cell_type": "code",
   "execution_count": 1,
   "id": "d614a7e5",
   "metadata": {},
   "outputs": [],
   "source": [
    "import sys\n",
    "import time"
   ]
  },
  {
   "cell_type": "code",
   "execution_count": 2,
   "id": "b53f3527",
   "metadata": {},
   "outputs": [],
   "source": [
    "from bs4 import BeautifulSoup"
   ]
  },
  {
   "cell_type": "code",
   "execution_count": 3,
   "id": "01946a6e",
   "metadata": {},
   "outputs": [],
   "source": [
    "import requests"
   ]
  },
  {
   "cell_type": "code",
   "execution_count": 4,
   "id": "f5fd32a3",
   "metadata": {},
   "outputs": [],
   "source": [
    "try:\n",
    "    page=requests.get('https://www.cricbuzz.com/')\n",
    "except Exception as e:\n",
    "    error_type,error_obj,error_info=sys.exc_info()\n",
    "    print('ERROR FOR LINK:',url)\n",
    "    print(error_type,'Line:',error_info.tb_lineno)\n",
    "time.sleep(2)\n",
    "soup=BeautifulSoup(page.text,'html.parser')\n",
    "links=soup.find_all('div',attrs={'class':'cb-nws-intr'})"
   ]
  },
  {
   "cell_type": "code",
   "execution_count": 5,
   "id": "4ead9801",
   "metadata": {},
   "outputs": [
    {
     "data": {
      "text/plain": [
       "[<div class=\"cb-nws-intr\">Jones, Berrington propel Scotland to 176/5</div>,\n",
       " <div class=\"cb-nws-intr\">The fast bowler has been laid low by a calf injury yet again</div>,\n",
       " <div class=\"cb-nws-intr\">Two crucial Group A encounters set to be played in Geelong on Thursday</div>,\n",
       " <div class=\"cb-nws-intr\">His successor, Binny, said that his focus will be on players' fitness and quality pitches</div>,\n",
       " <div class=\"cb-nws-intr\">A decrease in white participants of the sport in Netherlands means a new wave of talent is starting to swell, of Asian descent</div>,\n",
       " <div class=\"cb-nws-intr\">BCCI secretary Jay Shah has confirmed that India will not be travelling to Pakistan for the tournament</div>,\n",
       " <div class=\"cb-nws-intr\">Of the existing 10 IPL franchises, at least six have shown an initial interest in buying a WIPL team but are are unlikely to get the first rights to pick</div>,\n",
       " <div class=\"cb-nws-intr\">With his first act of the tournament, Sikandar Raza may have well turned a few of the casual viewers that showed up for Zimbabwe from all parts of Australia into more serious followers</div>,\n",
       " <div class=\"cb-nws-intr\">Mark Watt was at the forefront of a memorable Scottish win as they humbled West Indies in their first game of the 2022 T20 World Cup</div>,\n",
       " <div class=\"cb-nws-intr\">Despite flirting with the idea of moving away from their T20 DNA at multiple times post 2007, India have never fully committed to the change</div>,\n",
       " <div class=\"cb-nws-intr\">England batter Eve Jones has been signed on as the replacement player</div>,\n",
       " <div class=\"cb-nws-intr\">Cummins will take over from Aaron Finch who retired from the format recently</div>,\n",
       " <div class=\"cb-nws-intr\">The legendary batsman, who spoke highly about India's chances in the T20 World Cup, stressed on the importance of mindset when it comes to bowling in the death</div>,\n",
       " <div class=\"cb-nws-intr\">News byte that you may have otherwise missed</div>,\n",
       " <div class=\"cb-nws-intr\">In the backdrop of PCB cancelling the tour of the West Indies, BPL's seven franchises got a much-needed boost as far as recruiting foreign cricketers is concerned</div>,\n",
       " <div class=\"cb-nws-intr\">Replacing Jasprit Bumrah was never going to be easy and Mohammed Shami's T20I return after a year in the cold doesn't necessarily solve India's current bowling problems</div>,\n",
       " <div class=\"cb-nws-intr\">The increased share is over and above the recent hike in hosting fee for states for different domestic matches</div>,\n",
       " <div class=\"cb-nws-intr\">Elsewhere, Yash Dhull hit 73 off 36 against Hyderabad</div>,\n",
       " <div class=\"cb-nws-intr\">Cricket Australia's board decided to change the organisation's code of conduct to allow ongoing disciplinary sentences to be reviewed on appeal by an independent commissioner</div>,\n",
       " <div class=\"cb-nws-intr\">The matches, part of the World Cup Super League, will be played on November 25, 27 and 30 in Pallekele </div>,\n",
       " <div class=\"cb-nws-intr\">The pair stitched an impressive opening stand of 165 to help Brisbane Heat down Melbourne Renegades by 21 runs</div>,\n",
       " <div class=\"cb-nws-intr\">Needing 235 runs for victory, Tasmania's openers have already knocked off 104 runs by stumps</div>,\n",
       " <div class=\"cb-nws-intr\">Your daily briefings on everything going in and around the T20 World Cup in Australia</div>,\n",
       " <div class=\"cb-nws-intr\">All the news and updates from Australia during the men's T20 World Cup 2022</div>,\n",
       " <div class=\"cb-nws-intr\">In the first part of a new feature series on Cricbuzz Plus, Bharat Sundaresan outlines the rapid changes that cricket is going through and poses questions about its future</div>,\n",
       " <div class=\"cb-nws-intr\">As cricket becomes increasingly shaped by T20 franchise leagues, a group of Indian businesses are expanding into new frontiers. What's driving them?</div>,\n",
       " <div class=\"cb-nws-intr\">As cricket undergoes seismic changes, the way its players are thinking about and designing their careers is changing rapidly. But is this really the doomsday scenario that many are making it out to be?</div>,\n",
       " <div class=\"cb-nws-intr\">If change is happening, it is happening around BCCI. And because they continue to hold all the best cards in the pack, they have the ability to make this transition work for them</div>,\n",
       " <div class=\"cb-nws-intr\">If the BCCI continue to serve as cricket's benevolent dictator, what is the best that other nations can hope for in a changing landscape?</div>]"
      ]
     },
     "execution_count": 5,
     "metadata": {},
     "output_type": "execute_result"
    }
   ],
   "source": [
    "links"
   ]
  },
  {
   "cell_type": "code",
   "execution_count": 6,
   "id": "76babab8",
   "metadata": {},
   "outputs": [
    {
     "name": "stdout",
     "output_type": "stream",
     "text": [
      "Jones, Berrington propel Scotland to 176/5\n",
      "\n",
      "\n",
      "The fast bowler has been laid low by a calf injury yet again\n",
      "\n",
      "\n",
      "Two crucial Group A encounters set to be played in Geelong on Thursday\n",
      "\n",
      "\n",
      "His successor, Binny, said that his focus will be on players' fitness and quality pitches\n",
      "\n",
      "\n",
      "A decrease in white participants of the sport in Netherlands means a new wave of talent is starting to swell, of Asian descent\n",
      "\n",
      "\n",
      "BCCI secretary Jay Shah has confirmed that India will not be travelling to Pakistan for the tournament\n",
      "\n",
      "\n",
      "Of the existing 10 IPL franchises, at least six have shown an initial interest in buying a WIPL team but are are unlikely to get the first rights to pick\n",
      "\n",
      "\n",
      "With his first act of the tournament, Sikandar Raza may have well turned a few of the casual viewers that showed up for Zimbabwe from all parts of Australia into more serious followers\n",
      "\n",
      "\n",
      "Mark Watt was at the forefront of a memorable Scottish win as they humbled West Indies in their first game of the 2022 T20 World Cup\n",
      "\n",
      "\n",
      "Despite flirting with the idea of moving away from their T20 DNA at multiple times post 2007, India have never fully committed to the change\n",
      "\n",
      "\n",
      "England batter Eve Jones has been signed on as the replacement player\n",
      "\n",
      "\n",
      "Cummins will take over from Aaron Finch who retired from the format recently\n",
      "\n",
      "\n",
      "The legendary batsman, who spoke highly about India's chances in the T20 World Cup, stressed on the importance of mindset when it comes to bowling in the death\n",
      "\n",
      "\n",
      "News byte that you may have otherwise missed\n",
      "\n",
      "\n",
      "In the backdrop of PCB cancelling the tour of the West Indies, BPL's seven franchises got a much-needed boost as far as recruiting foreign cricketers is concerned\n",
      "\n",
      "\n",
      "Replacing Jasprit Bumrah was never going to be easy and Mohammed Shami's T20I return after a year in the cold doesn't necessarily solve India's current bowling problems\n",
      "\n",
      "\n",
      "The increased share is over and above the recent hike in hosting fee for states for different domestic matches\n",
      "\n",
      "\n",
      "Elsewhere, Yash Dhull hit 73 off 36 against Hyderabad\n",
      "\n",
      "\n",
      "Cricket Australia's board decided to change the organisation's code of conduct to allow ongoing disciplinary sentences to be reviewed on appeal by an independent commissioner\n",
      "\n",
      "\n",
      "The matches, part of the World Cup Super League, will be played on November 25, 27 and 30 in Pallekele \n",
      "\n",
      "\n",
      "The pair stitched an impressive opening stand of 165 to help Brisbane Heat down Melbourne Renegades by 21 runs\n",
      "\n",
      "\n",
      "Needing 235 runs for victory, Tasmania's openers have already knocked off 104 runs by stumps\n",
      "\n",
      "\n",
      "Your daily briefings on everything going in and around the T20 World Cup in Australia\n",
      "\n",
      "\n",
      "All the news and updates from Australia during the men's T20 World Cup 2022\n",
      "\n",
      "\n",
      "In the first part of a new feature series on Cricbuzz Plus, Bharat Sundaresan outlines the rapid changes that cricket is going through and poses questions about its future\n",
      "\n",
      "\n",
      "As cricket becomes increasingly shaped by T20 franchise leagues, a group of Indian businesses are expanding into new frontiers. What's driving them?\n",
      "\n",
      "\n",
      "As cricket undergoes seismic changes, the way its players are thinking about and designing their careers is changing rapidly. But is this really the doomsday scenario that many are making it out to be?\n",
      "\n",
      "\n",
      "If change is happening, it is happening around BCCI. And because they continue to hold all the best cards in the pack, they have the ability to make this transition work for them\n",
      "\n",
      "\n",
      "If the BCCI continue to serve as cricket's benevolent dictator, what is the best that other nations can hope for in a changing landscape?\n",
      "\n",
      "\n"
     ]
    }
   ],
   "source": [
    "for i in links:\n",
    "    print(i.text)\n",
    "    print(\"\\n\")"
   ]
  },
  {
   "cell_type": "code",
   "execution_count": null,
   "id": "6d435679",
   "metadata": {},
   "outputs": [],
   "source": []
  },
  {
   "cell_type": "code",
   "execution_count": null,
   "id": "ed397214",
   "metadata": {},
   "outputs": [],
   "source": []
  },
  {
   "cell_type": "code",
   "execution_count": null,
   "id": "6a0cbdf1",
   "metadata": {},
   "outputs": [],
   "source": []
  },
  {
   "cell_type": "code",
   "execution_count": null,
   "id": "7d4f2005",
   "metadata": {},
   "outputs": [],
   "source": []
  },
  {
   "cell_type": "code",
   "execution_count": null,
   "id": "e22a2f4e",
   "metadata": {},
   "outputs": [],
   "source": []
  }
 ],
 "metadata": {
  "kernelspec": {
   "display_name": "Python 3 (ipykernel)",
   "language": "python",
   "name": "python3"
  },
  "language_info": {
   "codemirror_mode": {
    "name": "ipython",
    "version": 3
   },
   "file_extension": ".py",
   "mimetype": "text/x-python",
   "name": "python",
   "nbconvert_exporter": "python",
   "pygments_lexer": "ipython3",
   "version": "3.9.7"
  }
 },
 "nbformat": 4,
 "nbformat_minor": 5
}
